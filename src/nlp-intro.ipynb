{
 "cells": [
  {
   "cell_type": "code",
   "execution_count": 131,
   "metadata": {},
   "outputs": [
    {
     "name": "stdout",
     "output_type": "stream",
     "text": [
      "\u001b[0m\u001b[01;32mNLP_data_list_0715.csv\u001b[0m*  \u001b[01;32mtest_a.csv\u001b[0m*  \u001b[01;32mtest_a_sample_submit.csv\u001b[0m*  \u001b[01;32mtrain_set.csv\u001b[0m*\r\n"
     ]
    }
   ],
   "source": [
    "ls ../input"
   ]
  },
  {
   "cell_type": "code",
   "execution_count": 3,
   "metadata": {},
   "outputs": [],
   "source": [
    "import re\n",
    "import pandas as pd"
   ]
  },
  {
   "cell_type": "code",
   "execution_count": 4,
   "metadata": {},
   "outputs": [
    {
     "data": {
      "text/html": [
       "<div>\n",
       "<style scoped>\n",
       "    .dataframe tbody tr th:only-of-type {\n",
       "        vertical-align: middle;\n",
       "    }\n",
       "\n",
       "    .dataframe tbody tr th {\n",
       "        vertical-align: top;\n",
       "    }\n",
       "\n",
       "    .dataframe thead th {\n",
       "        text-align: right;\n",
       "    }\n",
       "</style>\n",
       "<table border=\"1\" class=\"dataframe\">\n",
       "  <thead>\n",
       "    <tr style=\"text-align: right;\">\n",
       "      <th></th>\n",
       "      <th>label</th>\n",
       "      <th>text</th>\n",
       "    </tr>\n",
       "  </thead>\n",
       "  <tbody>\n",
       "    <tr>\n",
       "      <th>0</th>\n",
       "      <td>2</td>\n",
       "      <td>2967 6758 339 2021 1854 3731 4109 3792 4149 15...</td>\n",
       "    </tr>\n",
       "    <tr>\n",
       "      <th>1</th>\n",
       "      <td>11</td>\n",
       "      <td>4464 486 6352 5619 2465 4802 1452 3137 5778 54...</td>\n",
       "    </tr>\n",
       "    <tr>\n",
       "      <th>2</th>\n",
       "      <td>3</td>\n",
       "      <td>7346 4068 5074 3747 5681 6093 1777 2226 7354 6...</td>\n",
       "    </tr>\n",
       "    <tr>\n",
       "      <th>3</th>\n",
       "      <td>2</td>\n",
       "      <td>7159 948 4866 2109 5520 2490 211 3956 5520 549...</td>\n",
       "    </tr>\n",
       "    <tr>\n",
       "      <th>4</th>\n",
       "      <td>3</td>\n",
       "      <td>3646 3055 3055 2490 4659 6065 3370 5814 2465 5...</td>\n",
       "    </tr>\n",
       "  </tbody>\n",
       "</table>\n",
       "</div>"
      ],
      "text/plain": [
       "   label                                               text\n",
       "0      2  2967 6758 339 2021 1854 3731 4109 3792 4149 15...\n",
       "1     11  4464 486 6352 5619 2465 4802 1452 3137 5778 54...\n",
       "2      3  7346 4068 5074 3747 5681 6093 1777 2226 7354 6...\n",
       "3      2  7159 948 4866 2109 5520 2490 211 3956 5520 549...\n",
       "4      3  3646 3055 3055 2490 4659 6065 3370 5814 2465 5..."
      ]
     },
     "execution_count": 4,
     "metadata": {},
     "output_type": "execute_result"
    }
   ],
   "source": [
    "train_df = pd.read_csv('../input/train_set.csv', sep='\\t', nrows=20000)\n",
    "train_df.head()"
   ]
  },
  {
   "cell_type": "markdown",
   "metadata": {},
   "source": [
    "# 1. EDA"
   ]
  },
  {
   "cell_type": "markdown",
   "metadata": {},
   "source": [
    "1. 新闻文本长度分布\n",
    "2. 新闻文本类别分布\n",
    "3. 字符分布"
   ]
  },
  {
   "cell_type": "markdown",
   "metadata": {},
   "source": [
    "## 1.1 新闻文本长度分布"
   ]
  },
  {
   "cell_type": "code",
   "execution_count": 134,
   "metadata": {},
   "outputs": [],
   "source": [
    "train_df['text_len'] = train_df['text'].apply(lambda x: len(x.split(' ')))"
   ]
  },
  {
   "cell_type": "code",
   "execution_count": 135,
   "metadata": {},
   "outputs": [
    {
     "name": "stdout",
     "output_type": "stream",
     "text": [
      "count    20000.00000\n",
      "mean       904.61785\n",
      "std        961.69081\n",
      "min          2.00000\n",
      "25%        375.00000\n",
      "50%        676.00000\n",
      "75%       1125.00000\n",
      "max      44665.00000\n",
      "Name: text_len, dtype: float64\n"
     ]
    }
   ],
   "source": [
    "print(train_df['text_len'].describe())"
   ]
  },
  {
   "cell_type": "code",
   "execution_count": 136,
   "metadata": {},
   "outputs": [
    {
     "name": "stdout",
     "output_type": "stream",
     "text": [
      "Populating the interactive namespace from numpy and matplotlib\n"
     ]
    },
    {
     "data": {
      "text/plain": [
       "Text(0.5, 1.0, 'Histogram of char count')"
      ]
     },
     "execution_count": 136,
     "metadata": {},
     "output_type": "execute_result"
    },
    {
     "data": {
      "image/png": "[encoded data removed]",
      "text/plain": [
       "<Figure size 432x288 with 1 Axes>"
      ]
     },
     "metadata": {
      "needs_background": "light"
     },
     "output_type": "display_data"
    }
   ],
   "source": [
    "%pylab inline\n",
    "_ = plt.hist(train_df['text_len'], bins=200)\n",
    "plt.xlabel('Text char count')\n",
    "plt.title(\"Histogram of char count\")"
   ]
  },
  {
   "cell_type": "markdown",
   "metadata": {},
   "source": [
    "## 1.2 新闻文本类别分布\n",
    "1. 画图 "
   ]
  },
  {
   "cell_type": "code",
   "execution_count": 137,
   "metadata": {},
   "outputs": [
    {
     "data": {
      "image/png": "[encoded data removed]",
      "text/plain": [
       "<Figure size 432x288 with 1 Axes>"
      ]
     },
     "metadata": {
      "needs_background": "light"
     },
     "output_type": "display_data"
    }
   ],
   "source": [
    "_ = plt.hist(train_df['label'])"
   ]
  },
  {
   "cell_type": "code",
   "execution_count": 138,
   "metadata": {},
   "outputs": [],
   "source": [
    "class_dict = {'科技': 0, '股票': 1, '体育': 2, '娱乐': 3, '时政': 4, '社会': 5, '教育': 6, '财经': 7, '家居': 8, '游戏': 9, '房产': 10, '时尚': 11, '彩票': 12, '星座': 13}"
   ]
  },
  {
   "cell_type": "code",
   "execution_count": 139,
   "metadata": {},
   "outputs": [
    {
     "data": {
      "text/plain": [
       "{0: '科技',\n",
       " 1: '股票',\n",
       " 2: '体育',\n",
       " 3: '娱乐',\n",
       " 4: '时政',\n",
       " 5: '社会',\n",
       " 6: '教育',\n",
       " 7: '财经',\n",
       " 8: '家居',\n",
       " 9: '游戏',\n",
       " 10: '房产',\n",
       " 11: '时尚',\n",
       " 12: '彩票',\n",
       " 13: '星座'}"
      ]
     },
     "execution_count": 139,
     "metadata": {},
     "output_type": "execute_result"
    }
   ],
   "source": [
    "class_dict_r = dict(map(reversed, class_dict.items()))\n",
    "class_dict_r"
   ]
  },
  {
   "cell_type": "code",
   "execution_count": 140,
   "metadata": {},
   "outputs": [],
   "source": [
    "train_df['class'] = train_df['label'].apply(lambda x: class_dict_r[x])"
   ]
  },
  {
   "cell_type": "code",
   "execution_count": 141,
   "metadata": {},
   "outputs": [
    {
     "data": {
      "text/plain": [
       "Text(0.5, 0, 'category')"
      ]
     },
     "execution_count": 141,
     "metadata": {},
     "output_type": "execute_result"
    },
    {
     "data": {
      "image/png": "[encoded data removed]",
      "text/plain": [
       "<Figure size 432x288 with 1 Axes>"
      ]
     },
     "metadata": {
      "needs_background": "light"
     },
     "output_type": "display_data"
    }
   ],
   "source": [
    "_ = train_df['label'].value_counts().plot(kind='bar')\n",
    "plt.title('News class count')\n",
    "plt.xlabel(\"category\")"
   ]
  },
  {
   "cell_type": "markdown",
   "metadata": {},
   "source": [
    "## 1.3 字符分布"
   ]
  },
  {
   "cell_type": "code",
   "execution_count": 142,
   "metadata": {},
   "outputs": [
    {
     "data": {
      "image/png": "[encoded data removed]",
      "text/plain": [
       "<Figure size 432x288 with 1 Axes>"
      ]
     },
     "metadata": {
      "needs_background": "light"
     },
     "output_type": "display_data"
    }
   ],
   "source": [
    "_ = pd.DataFrame(' '.join(train_df['text']).split()).value_counts().head(10).plot(kind='bar')"
   ]
  },
  {
   "cell_type": "markdown",
   "metadata": {},
   "source": [
    "task 1: 假设3750和648是标点符号，计算每篇新闻平均有多少个句子。"
   ]
  },
  {
   "cell_type": "code",
   "execution_count": 146,
   "metadata": {},
   "outputs": [],
   "source": [
    "train_df['sentence_count'] = train_df['text'].apply(lambda x: len(re.split('3750|648',x)))"
   ]
  },
  {
   "cell_type": "code",
   "execution_count": 147,
   "metadata": {},
   "outputs": [
    {
     "data": {
      "text/html": [
       "<div>\n",
       "<style scoped>\n",
       "    .dataframe tbody tr th:only-of-type {\n",
       "        vertical-align: middle;\n",
       "    }\n",
       "\n",
       "    .dataframe tbody tr th {\n",
       "        vertical-align: top;\n",
       "    }\n",
       "\n",
       "    .dataframe thead th {\n",
       "        text-align: right;\n",
       "    }\n",
       "</style>\n",
       "<table border=\"1\" class=\"dataframe\">\n",
       "  <thead>\n",
       "    <tr style=\"text-align: right;\">\n",
       "      <th></th>\n",
       "      <th>label</th>\n",
       "      <th>text</th>\n",
       "      <th>text_len</th>\n",
       "      <th>class</th>\n",
       "      <th>sentence_count</th>\n",
       "    </tr>\n",
       "  </thead>\n",
       "  <tbody>\n",
       "    <tr>\n",
       "      <th>0</th>\n",
       "      <td>2</td>\n",
       "      <td>2967 6758 339 2021 1854 3731 4109 3792 4149 15...</td>\n",
       "      <td>1057</td>\n",
       "      <td>体育</td>\n",
       "      <td>91</td>\n",
       "    </tr>\n",
       "    <tr>\n",
       "      <th>1</th>\n",
       "      <td>11</td>\n",
       "      <td>4464 486 6352 5619 2465 4802 1452 3137 5778 54...</td>\n",
       "      <td>486</td>\n",
       "      <td>时尚</td>\n",
       "      <td>37</td>\n",
       "    </tr>\n",
       "    <tr>\n",
       "      <th>2</th>\n",
       "      <td>3</td>\n",
       "      <td>7346 4068 5074 3747 5681 6093 1777 2226 7354 6...</td>\n",
       "      <td>764</td>\n",
       "      <td>娱乐</td>\n",
       "      <td>49</td>\n",
       "    </tr>\n",
       "    <tr>\n",
       "      <th>3</th>\n",
       "      <td>2</td>\n",
       "      <td>7159 948 4866 2109 5520 2490 211 3956 5520 549...</td>\n",
       "      <td>1570</td>\n",
       "      <td>体育</td>\n",
       "      <td>131</td>\n",
       "    </tr>\n",
       "    <tr>\n",
       "      <th>4</th>\n",
       "      <td>3</td>\n",
       "      <td>3646 3055 3055 2490 4659 6065 3370 5814 2465 5...</td>\n",
       "      <td>307</td>\n",
       "      <td>娱乐</td>\n",
       "      <td>22</td>\n",
       "    </tr>\n",
       "  </tbody>\n",
       "</table>\n",
       "</div>"
      ],
      "text/plain": [
       "   label                                               text  text_len class  \\\n",
       "0      2  2967 6758 339 2021 1854 3731 4109 3792 4149 15...      1057    体育   \n",
       "1     11  4464 486 6352 5619 2465 4802 1452 3137 5778 54...       486    时尚   \n",
       "2      3  7346 4068 5074 3747 5681 6093 1777 2226 7354 6...       764    娱乐   \n",
       "3      2  7159 948 4866 2109 5520 2490 211 3956 5520 549...      1570    体育   \n",
       "4      3  3646 3055 3055 2490 4659 6065 3370 5814 2465 5...       307    娱乐   \n",
       "\n",
       "   sentence_count  \n",
       "0              91  \n",
       "1              37  \n",
       "2              49  \n",
       "3             131  \n",
       "4              22  "
      ]
     },
     "execution_count": 147,
     "metadata": {},
     "output_type": "execute_result"
    }
   ],
   "source": [
    "train_df.head()"
   ]
  },
  {
   "cell_type": "code",
   "execution_count": 148,
   "metadata": {},
   "outputs": [
    {
     "data": {
      "image/png": "[encoded data removed]",
      "text/plain": [
       "<Figure size 432x288 with 1 Axes>"
      ]
     },
     "metadata": {
      "needs_background": "light"
     },
     "output_type": "display_data"
    }
   ],
   "source": [
    "_ = plt.hist(train_df['sentence_count'],bins=300)"
   ]
  },
  {
   "cell_type": "code",
   "execution_count": 149,
   "metadata": {},
   "outputs": [
    {
     "data": {
      "text/plain": [
       "64.0329"
      ]
     },
     "execution_count": 149,
     "metadata": {},
     "output_type": "execute_result"
    }
   ],
   "source": [
    "train_df['sentence_count'].mean()"
   ]
  },
  {
   "cell_type": "markdown",
   "metadata": {},
   "source": [
    "平均每条新闻有64.47个句子。"
   ]
  },
  {
   "cell_type": "code",
   "execution_count": 150,
   "metadata": {},
   "outputs": [
    {
     "ename": "SyntaxError",
     "evalue": "invalid syntax (<ipython-input-150-bf18f373c273>, line 1)",
     "output_type": "error",
     "traceback": [
      "\u001b[0;36m  File \u001b[0;32m\"<ipython-input-150-bf18f373c273>\"\u001b[0;36m, line \u001b[0;32m1\u001b[0m\n\u001b[0;31m    task 2: 统计每类新闻中除标点符号之外出现次数最多的字符\u001b[0m\n\u001b[0m         ^\u001b[0m\n\u001b[0;31mSyntaxError\u001b[0m\u001b[0;31m:\u001b[0m invalid syntax\n"
     ]
    }
   ],
   "source": [
    "task 2: 统计每类新闻中除标点符号之外出现次数最多的字符"
   ]
  },
  {
   "cell_type": "code",
   "execution_count": 151,
   "metadata": {},
   "outputs": [
    {
     "data": {
      "text/html": [
       "<div>\n",
       "<style scoped>\n",
       "    .dataframe tbody tr th:only-of-type {\n",
       "        vertical-align: middle;\n",
       "    }\n",
       "\n",
       "    .dataframe tbody tr th {\n",
       "        vertical-align: top;\n",
       "    }\n",
       "\n",
       "    .dataframe thead th {\n",
       "        text-align: right;\n",
       "    }\n",
       "</style>\n",
       "<table border=\"1\" class=\"dataframe\">\n",
       "  <thead>\n",
       "    <tr style=\"text-align: right;\">\n",
       "      <th></th>\n",
       "      <th>label</th>\n",
       "      <th>text</th>\n",
       "      <th>text_len</th>\n",
       "      <th>class</th>\n",
       "      <th>sentence_count</th>\n",
       "    </tr>\n",
       "  </thead>\n",
       "  <tbody>\n",
       "    <tr>\n",
       "      <th>10</th>\n",
       "      <td>0</td>\n",
       "      <td>3659 3659 1903 1866 4326 4744 7239 3479 4261 4...</td>\n",
       "      <td>983</td>\n",
       "      <td>科技</td>\n",
       "      <td>63</td>\n",
       "    </tr>\n",
       "    <tr>\n",
       "      <th>13</th>\n",
       "      <td>0</td>\n",
       "      <td>4630 2210 1641 1854 1641 4543 3017 4409 5430 6...</td>\n",
       "      <td>191</td>\n",
       "      <td>科技</td>\n",
       "      <td>13</td>\n",
       "    </tr>\n",
       "    <tr>\n",
       "      <th>14</th>\n",
       "      <td>0</td>\n",
       "      <td>1103 6835 3433 2107 5165 7543 3598 5229 1946 2...</td>\n",
       "      <td>723</td>\n",
       "      <td>科技</td>\n",
       "      <td>45</td>\n",
       "    </tr>\n",
       "    <tr>\n",
       "      <th>20</th>\n",
       "      <td>0</td>\n",
       "      <td>6569 4690 2663 5391 1315 3987 1519 4893 7539 3...</td>\n",
       "      <td>1178</td>\n",
       "      <td>科技</td>\n",
       "      <td>121</td>\n",
       "    </tr>\n",
       "    <tr>\n",
       "      <th>31</th>\n",
       "      <td>0</td>\n",
       "      <td>2400 4411 4559 3464 1407 3154 6714 4516 5264 5...</td>\n",
       "      <td>899</td>\n",
       "      <td>科技</td>\n",
       "      <td>65</td>\n",
       "    </tr>\n",
       "  </tbody>\n",
       "</table>\n",
       "</div>"
      ],
      "text/plain": [
       "    label                                               text  text_len class  \\\n",
       "10      0  3659 3659 1903 1866 4326 4744 7239 3479 4261 4...       983    科技   \n",
       "13      0  4630 2210 1641 1854 1641 4543 3017 4409 5430 6...       191    科技   \n",
       "14      0  1103 6835 3433 2107 5165 7543 3598 5229 1946 2...       723    科技   \n",
       "20      0  6569 4690 2663 5391 1315 3987 1519 4893 7539 3...      1178    科技   \n",
       "31      0  2400 4411 4559 3464 1407 3154 6714 4516 5264 5...       899    科技   \n",
       "\n",
       "    sentence_count  \n",
       "10              63  \n",
       "13              13  \n",
       "14              45  \n",
       "20             121  \n",
       "31              65  "
      ]
     },
     "execution_count": 151,
     "metadata": {},
     "output_type": "execute_result"
    }
   ],
   "source": [
    "train_df[train_df['label']==0].head()"
   ]
  },
  {
   "cell_type": "code",
   "execution_count": 152,
   "metadata": {},
   "outputs": [
    {
     "data": {
      "text/plain": [
       "3750    126914\n",
       "648      97095\n",
       "900      58260\n",
       "3370     49790\n",
       "2465     30701\n",
       "         ...  \n",
       "1559         1\n",
       "2141         1\n",
       "4242         1\n",
       "4240         1\n",
       "7500         1\n",
       "Length: 4291, dtype: int64"
      ]
     },
     "execution_count": 152,
     "metadata": {},
     "output_type": "execute_result"
    }
   ],
   "source": [
    "x=0\n",
    "pd.DataFrame(' '.join(train_df[train_df['label']==x]['text']).split()).value_counts()"
   ]
  },
  {
   "cell_type": "code",
   "execution_count": 153,
   "metadata": {},
   "outputs": [
    {
     "name": "stdout",
     "output_type": "stream",
     "text": [
      "0 科技\n",
      "900    58260\n",
      "dtype: int64\n",
      "1 股票\n",
      "3370    62630\n",
      "dtype: int64\n",
      "2 体育\n",
      "900    59694\n",
      "dtype: int64\n",
      "3 娱乐\n",
      "900    29621\n",
      "dtype: int64\n",
      "4 时政\n",
      "900    18741\n",
      "dtype: int64\n",
      "5 社会\n",
      "900    29617\n",
      "dtype: int64\n",
      "6 教育\n",
      "900    21766\n",
      "dtype: int64\n",
      "7 财经\n",
      "900    18554\n",
      "dtype: int64\n",
      "8 家居\n",
      "900    9833\n",
      "dtype: int64\n",
      "9 游戏\n",
      "900    7477\n",
      "dtype: int64\n",
      "10 房产\n",
      "900    7412\n",
      "dtype: int64\n",
      "11 时尚\n",
      "900    3716\n",
      "dtype: int64\n",
      "12 彩票\n",
      "4464    5036\n",
      "dtype: int64\n",
      "13 星座\n",
      "900    1129\n",
      "dtype: int64\n"
     ]
    }
   ],
   "source": [
    "for x in range(14):\n",
    "    print (x,class_dict_r[x])\n",
    "    print(pd.DataFrame(' '.join(train_df[train_df['label']==x]['text']).replace('3750','').replace('648','').split()).value_counts().head(1))"
   ]
  },
  {
   "cell_type": "markdown",
   "metadata": {},
   "source": [
    "# 2 基于机器学习的文本分类\n",
    "\n",
    "1. TF-IDF的原理和使用\n",
    "2. 使用sklearn完成文本分类"
   ]
  },
  {
   "cell_type": "markdown",
   "metadata": {},
   "source": [
    "机器学习分类:\n",
    "1. Supervised learning \n",
    "   - Classification\n",
    "   - Regression\n",
    "2. Unsupervised learning\n",
    "   - Dimension reduction\n",
    "   - Generative networks\n",
    "   - Clustering\n",
    "3. Semi-supervised learning\n",
    "4. Reinforcement learning"
   ]
  },
  {
   "cell_type": "markdown",
   "metadata": {},
   "source": [
    "## 2.1 文本表示方法\n",
    "1. One-hot\n",
    "2. Bag of words (Count Vectors)\n",
    "3. N-gram\n",
    "4. TF-IDF"
   ]
  },
  {
   "cell_type": "markdown",
   "metadata": {},
   "source": [
    "## 2.2 基于机器学习的文本分类\n",
    "1. Count Vectors + RidgeClassifier\n",
    "2. TF-IDF + RidgeClassifier"
   ]
  },
  {
   "cell_type": "markdown",
   "metadata": {},
   "source": [
    "### 2.2.1 Count Vectors + RidgeClassifier\n",
    "使用sklearn中的CountVectorizer和RidgeClassifier函数实现"
   ]
  },
  {
   "cell_type": "code",
   "execution_count": 9,
   "metadata": {},
   "outputs": [],
   "source": [
    "from sklearn.feature_extraction.text import CountVectorizer\n",
    "from sklearn.linear_model import RidgeClassifier\n",
    "from sklearn.metrics import classification_report"
   ]
  },
  {
   "cell_type": "code",
   "execution_count": 10,
   "metadata": {},
   "outputs": [],
   "source": [
    "vectorizer = CountVectorizer()\n",
    "corpus = train_df['text']\n",
    "train = vectorizer.fit_transform(corpus).toarray()"
   ]
  },
  {
   "cell_type": "code",
   "execution_count": 156,
   "metadata": {},
   "outputs": [
    {
     "data": {
      "text/plain": [
       "(20000, 5689)"
      ]
     },
     "execution_count": 156,
     "metadata": {},
     "output_type": "execute_result"
    }
   ],
   "source": [
    "train.shape"
   ]
  },
  {
   "cell_type": "code",
   "execution_count": 157,
   "metadata": {},
   "outputs": [
    {
     "data": {
      "text/plain": [
       "5697"
      ]
     },
     "execution_count": 157,
     "metadata": {},
     "output_type": "execute_result"
    }
   ],
   "source": [
    "len(set(' '.join(train_df['text']).split()))"
   ]
  },
  {
   "cell_type": "code",
   "execution_count": 159,
   "metadata": {},
   "outputs": [],
   "source": [
    "clf = RidgeClassifier()"
   ]
  },
  {
   "cell_type": "code",
   "execution_count": 160,
   "metadata": {},
   "outputs": [
    {
     "data": {
      "text/html": [
       "<div>\n",
       "<style scoped>\n",
       "    .dataframe tbody tr th:only-of-type {\n",
       "        vertical-align: middle;\n",
       "    }\n",
       "\n",
       "    .dataframe tbody tr th {\n",
       "        vertical-align: top;\n",
       "    }\n",
       "\n",
       "    .dataframe thead th {\n",
       "        text-align: right;\n",
       "    }\n",
       "</style>\n",
       "<table border=\"1\" class=\"dataframe\">\n",
       "  <thead>\n",
       "    <tr style=\"text-align: right;\">\n",
       "      <th></th>\n",
       "      <th>label</th>\n",
       "      <th>text</th>\n",
       "      <th>text_len</th>\n",
       "      <th>class</th>\n",
       "      <th>sentence_count</th>\n",
       "    </tr>\n",
       "  </thead>\n",
       "  <tbody>\n",
       "    <tr>\n",
       "      <th>0</th>\n",
       "      <td>2</td>\n",
       "      <td>2967 6758 339 2021 1854 3731 4109 3792 4149 15...</td>\n",
       "      <td>1057</td>\n",
       "      <td>体育</td>\n",
       "      <td>91</td>\n",
       "    </tr>\n",
       "    <tr>\n",
       "      <th>1</th>\n",
       "      <td>11</td>\n",
       "      <td>4464 486 6352 5619 2465 4802 1452 3137 5778 54...</td>\n",
       "      <td>486</td>\n",
       "      <td>时尚</td>\n",
       "      <td>37</td>\n",
       "    </tr>\n",
       "    <tr>\n",
       "      <th>2</th>\n",
       "      <td>3</td>\n",
       "      <td>7346 4068 5074 3747 5681 6093 1777 2226 7354 6...</td>\n",
       "      <td>764</td>\n",
       "      <td>娱乐</td>\n",
       "      <td>49</td>\n",
       "    </tr>\n",
       "    <tr>\n",
       "      <th>3</th>\n",
       "      <td>2</td>\n",
       "      <td>7159 948 4866 2109 5520 2490 211 3956 5520 549...</td>\n",
       "      <td>1570</td>\n",
       "      <td>体育</td>\n",
       "      <td>131</td>\n",
       "    </tr>\n",
       "    <tr>\n",
       "      <th>4</th>\n",
       "      <td>3</td>\n",
       "      <td>3646 3055 3055 2490 4659 6065 3370 5814 2465 5...</td>\n",
       "      <td>307</td>\n",
       "      <td>娱乐</td>\n",
       "      <td>22</td>\n",
       "    </tr>\n",
       "  </tbody>\n",
       "</table>\n",
       "</div>"
      ],
      "text/plain": [
       "   label                                               text  text_len class  \\\n",
       "0      2  2967 6758 339 2021 1854 3731 4109 3792 4149 15...      1057    体育   \n",
       "1     11  4464 486 6352 5619 2465 4802 1452 3137 5778 54...       486    时尚   \n",
       "2      3  7346 4068 5074 3747 5681 6093 1777 2226 7354 6...       764    娱乐   \n",
       "3      2  7159 948 4866 2109 5520 2490 211 3956 5520 549...      1570    体育   \n",
       "4      3  3646 3055 3055 2490 4659 6065 3370 5814 2465 5...       307    娱乐   \n",
       "\n",
       "   sentence_count  \n",
       "0              91  \n",
       "1              37  \n",
       "2              49  \n",
       "3             131  \n",
       "4              22  "
      ]
     },
     "execution_count": 160,
     "metadata": {},
     "output_type": "execute_result"
    }
   ],
   "source": [
    "train_df.head()"
   ]
  },
  {
   "cell_type": "code",
   "execution_count": 11,
   "metadata": {},
   "outputs": [],
   "source": [
    "split_ratio=0.9\n",
    "train_size = int(train.shape[0]*split_ratio)\n",
    "train_data_y = train_df['label'][:train_size].values.astype('int32')\n",
    "train_data_x = train[:train_size,:].astype('int32')\n",
    "\n",
    "test_data_y = train_df['label'][train_size:].values.astype('int32')\n",
    "test_data_x = train[train_size:,:].astype('int32')"
   ]
  },
  {
   "cell_type": "code",
   "execution_count": 178,
   "metadata": {},
   "outputs": [],
   "source": [
    "clf = clf.fit(train_data_x, train_data_y)"
   ]
  },
  {
   "cell_type": "code",
   "execution_count": 180,
   "metadata": {},
   "outputs": [],
   "source": [
    "predicted_y = clf.predict(test_data_x)"
   ]
  },
  {
   "cell_type": "code",
   "execution_count": 183,
   "metadata": {},
   "outputs": [
    {
     "name": "stdout",
     "output_type": "stream",
     "text": [
      "              precision    recall  f1-score   support\n",
      "\n",
      "           0       0.84      0.76      0.80       449\n",
      "           1       0.85      0.68      0.75       409\n",
      "           2       0.88      0.72      0.79       355\n",
      "           3       0.71      0.81      0.75       200\n",
      "           4       0.70      0.73      0.72       130\n",
      "           5       0.52      0.77      0.62        99\n",
      "           6       0.69      0.85      0.76        85\n",
      "           7       0.61      0.83      0.70        75\n",
      "           8       0.56      0.65      0.60        75\n",
      "           9       0.59      0.92      0.72        37\n",
      "          10       0.75      0.91      0.82        54\n",
      "          11       0.47      0.79      0.59        19\n",
      "          12       0.50      1.00      0.67         6\n",
      "          13       0.55      0.86      0.67         7\n",
      "\n",
      "    accuracy                           0.75      2000\n",
      "   macro avg       0.66      0.80      0.71      2000\n",
      "weighted avg       0.77      0.75      0.75      2000\n",
      "\n"
     ]
    }
   ],
   "source": [
    "print(classification_report(predicted_y,test_data_y))"
   ]
  },
  {
   "cell_type": "markdown",
   "metadata": {},
   "source": [
    "### 2.2.1 TF-IDF + RidgeClassifier\n",
    "使用sklearn中的TfidfVectorizer和RidgeClassifier实现"
   ]
  },
  {
   "cell_type": "code",
   "execution_count": 6,
   "metadata": {},
   "outputs": [],
   "source": [
    "from sklearn.feature_extraction.text import TfidfVectorizer\n",
    "from sklearn.linear_model import RidgeClassifier\n",
    "from sklearn.metrics import classification_report\n",
    "from sklearn.metrics import f1_score"
   ]
  },
  {
   "cell_type": "code",
   "execution_count": 13,
   "metadata": {},
   "outputs": [
    {
     "data": {
      "text/plain": [
       "(20000, 3000)"
      ]
     },
     "execution_count": 13,
     "metadata": {},
     "output_type": "execute_result"
    }
   ],
   "source": [
    "train_tfidf = TfidfVectorizer(ngram_range=(1,3), max_features=3000).fit_transform(train_df['text']).toarray()\n",
    "train_tfidf.shape"
   ]
  },
  {
   "cell_type": "code",
   "execution_count": 14,
   "metadata": {},
   "outputs": [
    {
     "name": "stdout",
     "output_type": "stream",
     "text": [
      "0.8874095355608284\n"
     ]
    }
   ],
   "source": [
    "split_ratio=0.9\n",
    "train_size = int(train.shape[0]*split_ratio)\n",
    "train_data_tfidf_y = train_df['label'][:train_size].values\n",
    "train_data_tfidf_x = train_tfidf[:train_size,:]\n",
    "test_data_tfidf_y = train_df['label'][train_size:].values\n",
    "test_data_tfidf_x = train_tfidf[train_size:,:]\n",
    "\n",
    "clf_tfidf = RidgeClassifier().fit(train_data_tfidf_x,train_data_tfidf_y)\n",
    "predicted_tfidf_y = clf_tfidf.predict(test_data_tfidf_x)\n",
    "print(f1_score(predicted_tfidf_y, test_data_tfidf_y, average='macro'))"
   ]
  },
  {
   "cell_type": "markdown",
   "metadata": {},
   "source": [
    "task 1： 改变TF-IDF参数，验证精度"
   ]
  },
  {
   "cell_type": "code",
   "execution_count": 249,
   "metadata": {},
   "outputs": [
    {
     "data": {
      "text/plain": [
       "(20000, 5689)"
      ]
     },
     "execution_count": 249,
     "metadata": {},
     "output_type": "execute_result"
    }
   ],
   "source": [
    "train_tfidf = TfidfVectorizer().fit_transform(train_df['text']).toarray()\n",
    "train_tfidf.shape"
   ]
  },
  {
   "cell_type": "code",
   "execution_count": 15,
   "metadata": {},
   "outputs": [
    {
     "name": "stdout",
     "output_type": "stream",
     "text": [
      "0.8874095355608284\n"
     ]
    }
   ],
   "source": [
    "split_ratio=0.9\n",
    "train_size = int(train.shape[0]*split_ratio)\n",
    "train_data_tfidf_y = train_df['label'][:train_size].values\n",
    "train_data_tfidf_x = train_tfidf[:train_size,:]\n",
    "test_data_tfidf_y = train_df['label'][train_size:].values\n",
    "test_data_tfidf_x = train_tfidf[train_size:,:]\n",
    "\n",
    "clf_tfidf = RidgeClassifier().fit(train_data_tfidf_x,train_data_tfidf_y)\n",
    "predicted_tfidf_y = clf_tfidf.predict(test_data_tfidf_x)\n",
    "print(f1_score(predicted_tfidf_y, test_data_tfidf_y, average='macro'))"
   ]
  },
  {
   "cell_type": "markdown",
   "metadata": {},
   "source": [
    "2. "
   ]
  },
  {
   "cell_type": "code",
   "execution_count": 16,
   "metadata": {},
   "outputs": [
    {
     "name": "stdout",
     "output_type": "stream",
     "text": [
      "(20000, 2000)\n",
      "0.8676361957864771\n"
     ]
    }
   ],
   "source": [
    "train_tfidf = TfidfVectorizer(ngram_range=(1,3), max_features=2000).fit_transform(train_df['text']).toarray()\n",
    "print(train_tfidf.shape)\n",
    "\n",
    "split_ratio=0.9\n",
    "train_size = int(train.shape[0]*split_ratio)\n",
    "test_data_tfidf_y = train_df['label'][train_size:].values\n",
    "\n",
    "clf_tfidf = RidgeClassifier().fit(train_tfidf[:train_size,:],train_df['label'][:train_size].values)\n",
    "predicted_tfidf_y = clf_tfidf.predict(train_tfidf[train_size:,:])\n",
    "print(f1_score(predicted_tfidf_y, test_data_tfidf_y, average='macro'))"
   ]
  },
  {
   "cell_type": "code",
   "execution_count": 256,
   "metadata": {},
   "outputs": [
    {
     "name": "stdout",
     "output_type": "stream",
     "text": [
      "(20000, 1000)\n",
      "0.8370254652824473\n"
     ]
    }
   ],
   "source": [
    "train_tfidf = TfidfVectorizer(ngram_range=(1,3), max_features=1000).fit_transform(train_df['text']).toarray()\n",
    "print(train_tfidf.shape)\n",
    "\n",
    "split_ratio=0.9\n",
    "train_size = int(train.shape[0]*split_ratio)\n",
    "test_data_tfidf_y = train_df['label'][train_size:].values\n",
    "\n",
    "clf_tfidf = RidgeClassifier().fit(train_tfidf[:train_size,:],train_df['label'][:train_size].values)\n",
    "predicted_tfidf_y = clf_tfidf.predict(train_tfidf[train_size:,:])\n",
    "print(f1_score(predicted_tfidf_y, test_data_tfidf_y, average='macro'))"
   ]
  },
  {
   "cell_type": "code",
   "execution_count": 257,
   "metadata": {},
   "outputs": [
    {
     "name": "stdout",
     "output_type": "stream",
     "text": [
      "0.8968761837026192\n"
     ]
    }
   ],
   "source": [
    "train_tfidf = TfidfVectorizer(ngram_range=(1,3), max_features=4000).fit_transform(train_df['text']).toarray()\n",
    "\n",
    "clf_tfidf = RidgeClassifier().fit(train_tfidf[:train_size,:],train_df['label'][:train_size].values)\n",
    "predicted_tfidf_y = clf_tfidf.predict(train_tfidf[train_size:,:])\n",
    "print(f1_score(predicted_tfidf_y, test_data_tfidf_y, average='macro'))"
   ]
  },
  {
   "cell_type": "code",
   "execution_count": 258,
   "metadata": {},
   "outputs": [
    {
     "name": "stdout",
     "output_type": "stream",
     "text": [
      "0.9008330481271971\n"
     ]
    }
   ],
   "source": [
    "train_tfidf = TfidfVectorizer(ngram_range=(1,3), max_features=5000).fit_transform(train_df['text']).toarray()\n",
    "\n",
    "clf_tfidf = RidgeClassifier().fit(train_tfidf[:train_size,:],train_df['label'][:train_size].values)\n",
    "predicted_tfidf_y = clf_tfidf.predict(train_tfidf[train_size:,:])\n",
    "print(f1_score(predicted_tfidf_y, test_data_tfidf_y, average='macro'))"
   ]
  },
  {
   "cell_type": "code",
   "execution_count": 259,
   "metadata": {},
   "outputs": [
    {
     "name": "stdout",
     "output_type": "stream",
     "text": [
      "0.9047890129332293\n"
     ]
    }
   ],
   "source": [
    "train_tfidf = TfidfVectorizer(ngram_range=(1,3), max_features=10000).fit_transform(train_df['text']).toarray()\n",
    "\n",
    "clf_tfidf = RidgeClassifier().fit(train_tfidf[:train_size,:],train_df['label'][:train_size].values)\n",
    "predicted_tfidf_y = clf_tfidf.predict(train_tfidf[train_size:,:])\n",
    "print(f1_score(predicted_tfidf_y, test_data_tfidf_y, average='macro'))"
   ]
  },
  {
   "cell_type": "code",
   "execution_count": 17,
   "metadata": {},
   "outputs": [
    {
     "name": "stdout",
     "output_type": "stream",
     "text": [
      "0.8994379043394298\n"
     ]
    }
   ],
   "source": [
    "train_tfidf = TfidfVectorizer(ngram_range=(1,4), max_features=5000).fit_transform(train_df['text']).toarray()\n",
    "\n",
    "clf_tfidf = RidgeClassifier().fit(train_tfidf[:train_size,:],train_df['label'][:train_size].values)\n",
    "predicted_tfidf_y = clf_tfidf.predict(train_tfidf[train_size:,:])\n",
    "print(f1_score(predicted_tfidf_y, test_data_tfidf_y, average='macro'))"
   ]
  }
 ],
 "metadata": {
  "kernelspec": {
   "display_name": "Python 3",
   "language": "python",
   "name": "python3"
  },
  "language_info": {
   "codemirror_mode": {
    "name": "ipython",
    "version": 3
   },
   "file_extension": ".py",
   "mimetype": "text/x-python",
   "name": "python",
   "nbconvert_exporter": "python",
   "pygments_lexer": "ipython3",
   "version": "3.7.6"
  }
 },
 "nbformat": 4,
 "nbformat_minor": 4
}
